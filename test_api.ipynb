{
 "cells": [
  {
   "cell_type": "code",
   "execution_count": 26,
   "metadata": {},
   "outputs": [
    {
     "name": "stderr",
     "output_type": "stream",
     "text": [
      "DEBUG:httpx:load_ssl_context verify=True cert=None trust_env=True http2=False\n",
      "DEBUG:httpx:load_verify_locations cafile='/Users/zz/anaconda3/lib/python3.11/site-packages/certifi/cacert.pem'\n",
      "DEBUG:httpx:load_ssl_context verify=True cert=None trust_env=True http2=False\n",
      "DEBUG:httpx:load_verify_locations cafile='/Users/zz/anaconda3/lib/python3.11/site-packages/certifi/cacert.pem'\n"
     ]
    }
   ],
   "source": [
    "from langchain_openai import ChatOpenAI\n",
    "\n",
    "llm = ChatOpenAI(\n",
    "    model=\"gpt-4o\",\n",
    "    temperature=0,\n",
    "    max_tokens=None,\n",
    "    timeout=None,\n",
    "    max_retries=2,\n",
    "    api_key=config.OPENAI_API_KEY,\n",
    "    base_url=config.OPENAI_API_BASE_URL\n",
    "    # api_key=\"...\",  # if you prefer to pass api key in directly instaed of using env vars\n",
    "    # base_url=\"...\",\n",
    "    # organization=\"...\",\n",
    "    # other params...\n",
    ")"
   ]
  },
  {
   "cell_type": "code",
   "execution_count": 27,
   "metadata": {},
   "outputs": [
    {
     "name": "stderr",
     "output_type": "stream",
     "text": [
      "DEBUG:openai._base_client:Request options: {'method': 'post', 'url': '/chat/completions', 'files': None, 'json_data': {'messages': [{'content': 'You are a helpful assistant that translates English to French. Translate the user sentence.', 'role': 'system'}, {'content': 'I love programming.', 'role': 'user'}], 'model': 'gpt-4o', 'n': 1, 'stream': False, 'temperature': 0.0}}\n",
      "DEBUG:openai._base_client:Sending HTTP Request: POST https://api.302.ai/v1/chat/completions\n",
      "DEBUG:httpcore.connection:connect_tcp.started host='api.302.ai' port=443 local_address=None timeout=None socket_options=None\n",
      "DEBUG:httpcore.connection:connect_tcp.complete return_value=<httpcore._backends.sync.SyncStream object at 0x1244f4810>\n",
      "DEBUG:httpcore.connection:start_tls.started ssl_context=<ssl.SSLContext object at 0x1251179b0> server_hostname='api.302.ai' timeout=None\n",
      "DEBUG:httpcore.connection:start_tls.complete return_value=<httpcore._backends.sync.SyncStream object at 0x10728cc10>\n",
      "DEBUG:httpcore.http11:send_request_headers.started request=<Request [b'POST']>\n",
      "DEBUG:httpcore.http11:send_request_headers.complete\n",
      "DEBUG:httpcore.http11:send_request_body.started request=<Request [b'POST']>\n",
      "DEBUG:httpcore.http11:send_request_body.complete\n",
      "DEBUG:httpcore.http11:receive_response_headers.started request=<Request [b'POST']>\n",
      "DEBUG:httpcore.http11:receive_response_headers.complete return_value=(b'HTTP/1.1', 200, b'OK', [(b'Access-Control-Allow-Credentials', b'true'), (b'Access-Control-Allow-Headers', b'*'), (b'Access-Control-Allow-Methods', b'GET,POST,PUT,DELETE,OPTIONS'), (b'Access-Control-Allow-Origin', b'*'), (b'Access-Control-Expose-Headers', b'X-Request-ID'), (b'Alt-Svc', b'h3=\":8443\"; ma=2592000'), (b'Alt-Svc', b'h3=\":443\"; ma=86400'), (b'Cf-Cache-Status', b'DYNAMIC'), (b'Cf-Ray', b'8daabe65faa717ee-SJC'), (b'Content-Length', b'636'), (b'Content-Type', b'application/json'), (b'Date', b'Wed, 30 Oct 2024 10:32:51 GMT'), (b'Openai-Organization', b'skyweb-nt3yqz'), (b'Openai-Processing-Ms', b'447'), (b'Openai-Version', b'2020-10-01'), (b'Server', b'cloudflare'), (b'Set-Cookie', b'__cf_bm=aGhpT_3gCbdLtTei3F_IlxzChHXl.JqX7Vmxi.eCXQY-1730284371-1.0.1.1-HbzPqjk6kzCa72eKIhsmiUVI59oxV.VSiaBHBqq22y_D46B4WYeG5O0jwfFe6qIEfUk7b_voYVVLtOJoHyki5w; path=/; expires=Wed, 30-Oct-24 11:02:51 GMT; domain=.api.openai.com; HttpOnly; Secure; SameSite=None'), (b'Strict-Transport-Security', b'max-age=31536000; includeSubDomains; preload'), (b'X-Content-Type-Options', b'nosniff'), (b'X-Oneapi-Request-Id', b'2024103018325084155061874107910'), (b'X-Ratelimit-Limit-Requests', b'5000'), (b'X-Ratelimit-Limit-Tokens', b'450000'), (b'X-Ratelimit-Remaining-Requests', b'4999'), (b'X-Ratelimit-Remaining-Tokens', b'449954'), (b'X-Ratelimit-Reset-Requests', b'12ms'), (b'X-Ratelimit-Reset-Tokens', b'6ms'), (b'X-Request-Id', b'req_4cc4de507f7b6fd445024c0e4ccd47d3')])\n",
      "INFO:httpx:HTTP Request: POST https://api.302.ai/v1/chat/completions \"HTTP/1.1 200 OK\"\n",
      "DEBUG:httpcore.http11:receive_response_body.started request=<Request [b'POST']>\n",
      "DEBUG:httpcore.http11:receive_response_body.complete\n",
      "DEBUG:httpcore.http11:response_closed.started\n",
      "DEBUG:httpcore.http11:response_closed.complete\n",
      "DEBUG:openai._base_client:HTTP Response: POST https://api.302.ai/v1/chat/completions \"200 OK\" Headers([('access-control-allow-credentials', 'true'), ('access-control-allow-headers', '*'), ('access-control-allow-methods', 'GET,POST,PUT,DELETE,OPTIONS'), ('access-control-allow-origin', '*'), ('access-control-expose-headers', 'X-Request-ID'), ('alt-svc', 'h3=\":8443\"; ma=2592000'), ('alt-svc', 'h3=\":443\"; ma=86400'), ('cf-cache-status', 'DYNAMIC'), ('cf-ray', '8daabe65faa717ee-SJC'), ('content-length', '636'), ('content-type', 'application/json'), ('date', 'Wed, 30 Oct 2024 10:32:51 GMT'), ('openai-organization', 'skyweb-nt3yqz'), ('openai-processing-ms', '447'), ('openai-version', '2020-10-01'), ('server', 'cloudflare'), ('set-cookie', '__cf_bm=aGhpT_3gCbdLtTei3F_IlxzChHXl.JqX7Vmxi.eCXQY-1730284371-1.0.1.1-HbzPqjk6kzCa72eKIhsmiUVI59oxV.VSiaBHBqq22y_D46B4WYeG5O0jwfFe6qIEfUk7b_voYVVLtOJoHyki5w; path=/; expires=Wed, 30-Oct-24 11:02:51 GMT; domain=.api.openai.com; HttpOnly; Secure; SameSite=None'), ('strict-transport-security', 'max-age=31536000; includeSubDomains; preload'), ('x-content-type-options', 'nosniff'), ('x-oneapi-request-id', '2024103018325084155061874107910'), ('x-ratelimit-limit-requests', '5000'), ('x-ratelimit-limit-tokens', '450000'), ('x-ratelimit-remaining-requests', '4999'), ('x-ratelimit-remaining-tokens', '449954'), ('x-ratelimit-reset-requests', '12ms'), ('x-ratelimit-reset-tokens', '6ms'), ('x-request-id', 'req_4cc4de507f7b6fd445024c0e4ccd47d3')])\n",
      "DEBUG:openai._base_client:request_id: req_4cc4de507f7b6fd445024c0e4ccd47d3\n"
     ]
    },
    {
     "data": {
      "text/plain": [
       "AIMessage(content=\"J'adore programmer.\", additional_kwargs={'refusal': None}, response_metadata={'token_usage': {'completion_tokens': 4, 'prompt_tokens': 31, 'total_tokens': 35, 'completion_tokens_details': {'audio_tokens': None, 'reasoning_tokens': 0}, 'prompt_tokens_details': {'audio_tokens': None, 'cached_tokens': 0}}, 'model_name': 'gpt-4o-2024-08-06', 'system_fingerprint': 'fp_90354628f2', 'finish_reason': 'stop', 'logprobs': None}, id='run-d266b4d0-512d-400d-80f9-8857bd0d2268-0', usage_metadata={'input_tokens': 31, 'output_tokens': 4, 'total_tokens': 35, 'input_token_details': {'cache_read': 0}, 'output_token_details': {'reasoning': 0}})"
      ]
     },
     "execution_count": 27,
     "metadata": {},
     "output_type": "execute_result"
    }
   ],
   "source": [
    "messages = [\n",
    "    (\n",
    "        \"system\",\n",
    "        \"You are a helpful assistant that translates English to French. Translate the user sentence.\",\n",
    "    ),\n",
    "    (\"human\", \"I love programming.\"),\n",
    "]\n",
    "ai_msg = llm.invoke(messages)\n",
    "ai_msg"
   ]
  },
  {
   "cell_type": "code",
   "execution_count": 28,
   "metadata": {},
   "outputs": [
    {
     "name": "stdout",
     "output_type": "stream",
     "text": [
      "J'adore programmer.\n"
     ]
    }
   ],
   "source": [
    "print(ai_msg.content)"
   ]
  },
  {
   "cell_type": "code",
   "execution_count": null,
   "metadata": {},
   "outputs": [],
   "source": []
  }
 ],
 "metadata": {
  "kernelspec": {
   "display_name": "base",
   "language": "python",
   "name": "python3"
  },
  "language_info": {
   "codemirror_mode": {
    "name": "ipython",
    "version": 3
   },
   "file_extension": ".py",
   "mimetype": "text/x-python",
   "name": "python",
   "nbconvert_exporter": "python",
   "pygments_lexer": "ipython3",
   "version": "3.11.6"
  }
 },
 "nbformat": 4,
 "nbformat_minor": 2
}
